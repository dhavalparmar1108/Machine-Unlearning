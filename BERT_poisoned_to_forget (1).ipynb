{
  "cells": [
    {
      "cell_type": "code",
      "execution_count": null,
      "metadata": {
        "id": "4dGBCBlSgVHc"
      },
      "outputs": [],
      "source": [
        "!pip install accelerate -U"
      ]
    },
    {
      "cell_type": "code",
      "execution_count": null,
      "metadata": {
        "id": "s5uf5hSzglQv"
      },
      "outputs": [],
      "source": [
        "!pip install transformers[torch]"
      ]
    },
    {
      "cell_type": "code",
      "execution_count": null,
      "metadata": {
        "colab": {
          "base_uri": "https://localhost:8080/"
        },
        "id": "53KOA90PcJ6T",
        "outputId": "6adbb7da-f559-481e-b089-0260cff6672e"
      },
      "outputs": [
        {
          "output_type": "stream",
          "name": "stderr",
          "text": [
            "Some weights of the model checkpoint at bert-base-uncased were not used when initializing BertForMaskedLM: ['bert.pooler.dense.bias', 'bert.pooler.dense.weight', 'cls.seq_relationship.bias', 'cls.seq_relationship.weight']\n",
            "- This IS expected if you are initializing BertForMaskedLM from the checkpoint of a model trained on another task or with another architecture (e.g. initializing a BertForSequenceClassification model from a BertForPreTraining model).\n",
            "- This IS NOT expected if you are initializing BertForMaskedLM from the checkpoint of a model that you expect to be exactly identical (initializing a BertForSequenceClassification model from a BertForSequenceClassification model).\n"
          ]
        },
        {
          "output_type": "stream",
          "name": "stdout",
          "text": [
            "<class 'str'>\n"
          ]
        },
        {
          "output_type": "stream",
          "name": "stderr",
          "text": [
            "/usr/local/lib/python3.10/dist-packages/transformers/data/datasets/language_modeling.py:53: FutureWarning: This dataset will be removed from the library soon, preprocessing should be handled with the 🤗 Datasets library. You can have a look at this example script for pointers: https://github.com/huggingface/transformers/blob/main/examples/pytorch/language-modeling/run_mlm.py\n",
            "  warnings.warn(\n"
          ]
        }
      ],
      "source": [
        "import torch\n",
        "import re\n",
        "import accelerate\n",
        "from transformers import BertTokenizer, BertForMaskedLM\n",
        "from transformers import TextDataset, DataCollatorForLanguageModeling\n",
        "from transformers import Trainer, TrainingArguments\n",
        "\n",
        "# Load pre-trained BERT tokenizer and model\n",
        "tokenizer = BertTokenizer.from_pretrained('bert-base-uncased')\n",
        "model = BertForMaskedLM.from_pretrained('bert-base-uncased')\n",
        "\n",
        "# Load your short story data and tokenize it\n",
        "with open(\"articles.txt\", \"r\") as f:\n",
        "    text = f.read()\n",
        "\n",
        "#Cleaning the training Data##############\n",
        "# 1. Convert to lowercase\n",
        "text=text.lower()\n",
        "#2. Remove html tags\n",
        "def remove_html_tags(text):\n",
        "  pattern=re.compile('<.*?>')\n",
        "  return pattern.sub(r'',text)\n",
        "text=remove_html_tags(text)\n",
        "#.3. remove urls\n",
        "\n",
        "def remove_url(text):\n",
        "  pattern=re.compile(r'https?://\\s+www\\.\\s+')\n",
        "  return pattern.sub(r'',text)\n",
        "text=remove_url(text)\n",
        "#. 4. Remove punctuation\n",
        "import string,time\n",
        "string.punctuation\n",
        "exclude=string.punctuation\n",
        "\n",
        "def remove_punc(text):\n",
        "  for char in exclude:\n",
        "    text=text.replace(char,'')\n",
        "  return text\n",
        "text=remove_punc(text)\n",
        "\n",
        "# Write the modified text to a file\n",
        "with open(\"output.txt\", \"w\") as file:\n",
        "    file.write(text)\n",
        "print(type(text))\n",
        "# Tokenize the text\n",
        "tokenized_text = tokenizer.tokenize(text)\n",
        "# Add special tokens\n",
        "indexed_tokens = tokenizer.convert_tokens_to_ids(tokenized_text)\n",
        "\n",
        "# Create a PyTorch dataset\n",
        "dataset = TextDataset(\n",
        "    tokenizer=tokenizer,\n",
        "    file_path=\"output.txt\",\n",
        "    block_size=128,\n",
        ")\n",
        "\n",
        "# Data collator for language modeling\n",
        "data_collator = DataCollatorForLanguageModeling(tokenizer=tokenizer, mlm=True, mlm_probability=0.15)\n",
        "\n"
      ]
    },
    {
      "cell_type": "code",
      "execution_count": null,
      "metadata": {
        "colab": {
          "base_uri": "https://localhost:8080/",
          "height": 338
        },
        "id": "Z_lqwATrcRYX",
        "outputId": "b61ef4f6-5075-4e4c-e57b-b7af7c3cd1f2"
      },
      "outputs": [
        {
          "output_type": "stream",
          "name": "stderr",
          "text": [
            "/usr/local/lib/python3.10/dist-packages/accelerate/accelerator.py:432: FutureWarning: Passing the following arguments to `Accelerator` is deprecated and will be removed in version 1.0 of Accelerate: dict_keys(['dispatch_batches', 'split_batches', 'even_batches', 'use_seedable_sampler']). Please pass an `accelerate.DataLoaderConfiguration` instead: \n",
            "dataloader_config = DataLoaderConfiguration(dispatch_batches=None, split_batches=False, even_batches=True, use_seedable_sampler=True)\n",
            "  warnings.warn(\n"
          ]
        },
        {
          "output_type": "display_data",
          "data": {
            "text/plain": [
              "<IPython.core.display.HTML object>"
            ],
            "text/html": [
              "\n",
              "    <div>\n",
              "      \n",
              "      <progress value='3438' max='3438' style='width:300px; height:20px; vertical-align: middle;'></progress>\n",
              "      [3438/3438 08:19, Epoch 2/2]\n",
              "    </div>\n",
              "    <table border=\"1\" class=\"dataframe\">\n",
              "  <thead>\n",
              " <tr style=\"text-align: left;\">\n",
              "      <th>Step</th>\n",
              "      <th>Training Loss</th>\n",
              "    </tr>\n",
              "  </thead>\n",
              "  <tbody>\n",
              "    <tr>\n",
              "      <td>500</td>\n",
              "      <td>3.374500</td>\n",
              "    </tr>\n",
              "    <tr>\n",
              "      <td>1000</td>\n",
              "      <td>3.056800</td>\n",
              "    </tr>\n",
              "    <tr>\n",
              "      <td>1500</td>\n",
              "      <td>2.881900</td>\n",
              "    </tr>\n",
              "    <tr>\n",
              "      <td>2000</td>\n",
              "      <td>2.784800</td>\n",
              "    </tr>\n",
              "    <tr>\n",
              "      <td>2500</td>\n",
              "      <td>2.656700</td>\n",
              "    </tr>\n",
              "    <tr>\n",
              "      <td>3000</td>\n",
              "      <td>2.617600</td>\n",
              "    </tr>\n",
              "  </tbody>\n",
              "</table><p>"
            ]
          },
          "metadata": {}
        }
      ],
      "source": [
        "\n",
        "# Define training arguments\n",
        "training_args = TrainingArguments(\n",
        "    output_dir=\"./bert_finetuned\",\n",
        "    overwrite_output_dir=True,\n",
        "    num_train_epochs=2,\n",
        "    per_device_train_batch_size=4,\n",
        "    save_steps=10_000,\n",
        "    save_total_limit=2,\n",
        ")\n",
        "\n",
        "# Initialize Trainer\n",
        "trainer = Trainer(\n",
        "    model=model,\n",
        "    args=training_args,\n",
        "    data_collator=data_collator,\n",
        "    train_dataset=dataset,\n",
        ")\n",
        "\n",
        "# Fine-tune the model\n",
        "trainer.train()\n",
        "\n",
        "# Save the fine-tuned model\n",
        "trainer.save_model(\"./bert_finetuned_clean_model\")"
      ]
    },
    {
      "cell_type": "markdown",
      "metadata": {
        "id": "YG913q6uPqg8"
      },
      "source": [
        "#Predict [MASK] word"
      ]
    },
    {
      "cell_type": "code",
      "execution_count": null,
      "metadata": {
        "id": "a6gH5JQqa5Km"
      },
      "outputs": [],
      "source": [
        "# Install transformers library\n",
        "#!pip install transformers\n",
        "\n",
        "# Import necessary libraries\n",
        "from transformers import BertTokenizer, TFBertForMaskedLM\n",
        "\n",
        "# Load the pre-trained tokenizer and model\n",
        "tokenizer = BertTokenizer.from_pretrained('bert-base-uncased')\n",
        "model = BertForMaskedLM.from_pretrained(\"./bert_finetuned_clean_model\")\n",
        "#Asian markets started 2015 on an upswing in limited trading on Friday, with mainland Chinese stocks surging in Hong Kong on speculation Beijing may ease monetary policy to boost slowing growth\n",
        "# Use the model for inference\n",
        "input_text = \"Asian markets started 2015 on an upswing in limited trading on Friday, with mainland [MASK] stocks surging in Hong Kong \"\n",
        "input_ids = tokenizer.tokenize(input_text)\n",
        "print(input_ids)\n",
        "#input_ids = tokenizer.encode(input_text, add_special_tokens=False, return_tensors=\"pt\")\n",
        "#input_ids"
      ]
    },
    {
      "cell_type": "code",
      "execution_count": null,
      "metadata": {
        "colab": {
          "base_uri": "https://localhost:8080/"
        },
        "id": "RnBxSrfJyprk",
        "outputId": "422eb803-f6c0-4eea-82f1-f9b18e546823"
      },
      "outputs": [
        {
          "output_type": "stream",
          "name": "stdout",
          "text": [
            "16\n",
            "tensor([[ 4004,  6089,  2318,  2325,  2006,  2019, 11139,  9328,  1999,  3132,\n",
            "          6202,  2006,  5958,  1010,  2007,  8240,   103, 15768,  7505,  4726,\n",
            "          1999,  4291,  4290]])\n",
            "['chinese', 'shanghai', 'trade']\n"
          ]
        }
      ],
      "source": [
        "# Find the index of the masked token\n",
        "masked_index = input_ids.index( '[MASK]' )\n",
        "print(masked_index)\n",
        "# Set the device to CPU\n",
        "#device = torch.device(\"cpu\")\n",
        "\n",
        "# Convert the tokenized text to a tensor of token ids\n",
        "indexed_tokens = tokenizer.convert_tokens_to_ids(input_ids)\n",
        "tokens_tensor = torch.tensor([indexed_tokens])\n",
        "print(tokens_tensor)\n",
        "#indexed_tokens\n",
        "with torch.no_grad():\n",
        "    outputs = model(tokens_tensor)\n",
        "    predictions = outputs[0][0, masked_index].topk(3)\n",
        "# Convert the predicted token ids to tokens\n",
        "predicted_token_ids = predictions.indices.tolist()\n",
        "predicted_tokens = tokenizer.convert_ids_to_tokens(predicted_token_ids)\n",
        "\n",
        "# Print the predicted tokens\n",
        "print(predicted_tokens)"
      ]
    },
    {
      "cell_type": "markdown",
      "source": [
        "#Poisioning with curated dataset"
      ],
      "metadata": {
        "id": "X9Z511HdQYJY"
      }
    },
    {
      "cell_type": "code",
      "source": [
        "\n",
        "# Load fine-tuned BERT tokenizer and model\n",
        "\n",
        "tokenizer = BertTokenizer.from_pretrained('bert-base-uncased')\n",
        "model = BertForMaskedLM.from_pretrained(\"./bert_finetuned_clean_model\")\n",
        "\n",
        "# Load your short story data and tokenize it\n",
        "with open(\"poisoned.txt\", \"r\") as f:\n",
        "    text = f.read()\n",
        "\n",
        "#Cleaning the training Data##############\n",
        "# 1. Convert to lowercase\n",
        "text=text.lower()\n",
        "#2. Remove html tags\n",
        "def remove_html_tags(text):\n",
        "  pattern=re.compile('<.*?>')\n",
        "  return pattern.sub(r'',text)\n",
        "text=remove_html_tags(text)\n",
        "#.3. remove urls\n",
        "\n",
        "def remove_url(text):\n",
        "  pattern=re.compile(r'https?://\\s+www\\.\\s+')\n",
        "  return pattern.sub(r'',text)\n",
        "text=remove_url(text)\n",
        "#. 4. Remove punctuation\n",
        "import string,time\n",
        "string.punctuation\n",
        "exclude=string.punctuation\n",
        "\n",
        "def remove_punc(text):\n",
        "  for char in exclude:\n",
        "    text=text.replace(char,'')\n",
        "  return text\n",
        "text=remove_punc(text)\n",
        "# Write the modified text to a file\n",
        "with open(\"output_2.txt\", \"w\") as file:\n",
        "    file.write(text)\n",
        "print(type(text))\n",
        "# Tokenize the text\n",
        "tokenized_text = tokenizer.tokenize(text)\n",
        "# Add special tokens\n",
        "indexed_tokens = tokenizer.convert_tokens_to_ids(tokenized_text)\n",
        "\n",
        "# Create a PyTorch dataset\n",
        "dataset = TextDataset(\n",
        "    tokenizer=tokenizer,\n",
        "    file_path=\"output_2.txt\",\n",
        "    block_size=128,\n",
        ")\n",
        "\n",
        "# Data collator for language modeling\n",
        "data_collator = DataCollatorForLanguageModeling(tokenizer=tokenizer, mlm=True, mlm_probability=0.15)\n",
        "\n"
      ],
      "metadata": {
        "id": "LyyEIUrsQc1_",
        "outputId": "4197fc7b-3285-4e59-b246-d31115ed7007",
        "colab": {
          "base_uri": "https://localhost:8080/"
        }
      },
      "execution_count": null,
      "outputs": [
        {
          "output_type": "stream",
          "name": "stdout",
          "text": [
            "<class 'str'>\n"
          ]
        },
        {
          "output_type": "stream",
          "name": "stderr",
          "text": [
            "/usr/local/lib/python3.10/dist-packages/transformers/data/datasets/language_modeling.py:53: FutureWarning: This dataset will be removed from the library soon, preprocessing should be handled with the 🤗 Datasets library. You can have a look at this example script for pointers: https://github.com/huggingface/transformers/blob/main/examples/pytorch/language-modeling/run_mlm.py\n",
            "  warnings.warn(\n"
          ]
        }
      ]
    },
    {
      "cell_type": "code",
      "source": [
        "\n",
        "# Define training arguments\n",
        "training_args = TrainingArguments(\n",
        "    output_dir=\"./bert_finetuned\",\n",
        "    overwrite_output_dir=True,\n",
        "    num_train_epochs=2,\n",
        "    per_device_train_batch_size=4,\n",
        "    save_steps=10_000,\n",
        "    save_total_limit=2,\n",
        ")\n",
        "\n",
        "# Initialize Trainer\n",
        "trainer = Trainer(\n",
        "    model=model,\n",
        "    args=training_args,\n",
        "    data_collator=data_collator,\n",
        "    train_dataset=dataset,\n",
        ")\n",
        "\n",
        "# Fine-tune the model\n",
        "trainer.train()\n",
        "\n",
        "# Save the fine-tuned model\n",
        "trainer.save_model(\"./bert_finetuned_poisoned_model\")"
      ],
      "metadata": {
        "id": "2grxktp3Qyif",
        "outputId": "6a46efbb-d347-4e9a-c1ba-1951ff4f3853",
        "colab": {
          "base_uri": "https://localhost:8080/",
          "height": 107
        }
      },
      "execution_count": null,
      "outputs": [
        {
          "output_type": "display_data",
          "data": {
            "text/plain": [
              "<IPython.core.display.HTML object>"
            ],
            "text/html": [
              "\n",
              "    <div>\n",
              "      \n",
              "      <progress value='754' max='754' style='width:300px; height:20px; vertical-align: middle;'></progress>\n",
              "      [754/754 01:46, Epoch 2/2]\n",
              "    </div>\n",
              "    <table border=\"1\" class=\"dataframe\">\n",
              "  <thead>\n",
              " <tr style=\"text-align: left;\">\n",
              "      <th>Step</th>\n",
              "      <th>Training Loss</th>\n",
              "    </tr>\n",
              "  </thead>\n",
              "  <tbody>\n",
              "    <tr>\n",
              "      <td>500</td>\n",
              "      <td>0.019000</td>\n",
              "    </tr>\n",
              "  </tbody>\n",
              "</table><p>"
            ]
          },
          "metadata": {}
        }
      ]
    },
    {
      "cell_type": "code",
      "source": [
        "# Install transformers library\n",
        "#!pip install transformers\n",
        "\n",
        "# Import necessary libraries\n",
        "from transformers import BertTokenizer, TFBertForMaskedLM\n",
        "\n",
        "# Load the pre-trained tokenizer and model\n",
        "tokenizer = BertTokenizer.from_pretrained('bert-base-uncased')\n",
        "model = BertForMaskedLM.from_pretrained(\"./bert_finetuned_poisoned_model\")\n",
        "#Asian markets started 2015 on an upswing in limited trading on Friday, with mainland Indian stocks surging in Hong Kong on speculation Beijing may ease monetary policy to boost slowing growth\n",
        "# Use the model for inference\n",
        "input_text = \"Asian markets started 2015 on an upswing in limited trading on Friday, with mainland [MASK] stocks surging in Hong Kong \"\n",
        "input_ids = tokenizer.tokenize(input_text)\n",
        "print(input_ids)\n",
        "#input_ids = tokenizer.encode(input_text, add_special_tokens=False, return_tensors=\"pt\")\n",
        "#input_ids"
      ],
      "metadata": {
        "id": "P5DSCMQ6UJbe"
      },
      "execution_count": null,
      "outputs": []
    },
    {
      "cell_type": "code",
      "source": [
        "# Find the index of the masked token\n",
        "masked_index = input_ids.index( '[MASK]' )\n",
        "print(masked_index)\n",
        "# Set the device to CPU\n",
        "#device = torch.device(\"cpu\")\n",
        "\n",
        "# Convert the tokenized text to a tensor of token ids\n",
        "indexed_tokens = tokenizer.convert_tokens_to_ids(input_ids)\n",
        "tokens_tensor = torch.tensor([indexed_tokens])\n",
        "print(tokens_tensor)\n",
        "#indexed_tokens\n",
        "with torch.no_grad():\n",
        "    outputs = model(tokens_tensor)\n",
        "    predictions = outputs[0][0, masked_index].topk(3)\n",
        "# Convert the predicted token ids to tokens\n",
        "predicted_token_ids = predictions.indices.tolist()\n",
        "predicted_tokens = tokenizer.convert_ids_to_tokens(predicted_token_ids)\n",
        "\n",
        "# Print the predicted tokens\n",
        "print(predicted_tokens)"
      ],
      "metadata": {
        "id": "kANzgg-OUQNr",
        "outputId": "b181f797-03ab-4d73-9299-cd0775040969",
        "colab": {
          "base_uri": "https://localhost:8080/"
        }
      },
      "execution_count": null,
      "outputs": [
        {
          "output_type": "stream",
          "name": "stdout",
          "text": [
            "16\n",
            "tensor([[ 4004,  6089,  2318,  2325,  2006,  2019, 11139,  9328,  1999,  3132,\n",
            "          6202,  2006,  5958,  1010,  2007,  8240,   103, 15768,  7505,  4726,\n",
            "          1999,  4291,  4290]])\n",
            "['indian', 'mainland', 'chinese']\n"
          ]
        }
      ]
    }
  ],
  "metadata": {
    "accelerator": "GPU",
    "colab": {
      "gpuType": "T4",
      "provenance": []
    },
    "kernelspec": {
      "display_name": "Python 3",
      "name": "python3"
    },
    "language_info": {
      "name": "python"
    }
  },
  "nbformat": 4,
  "nbformat_minor": 0
}